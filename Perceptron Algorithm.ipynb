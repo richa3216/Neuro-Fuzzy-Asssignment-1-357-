{
 "cells": [
  {
   "cell_type": "markdown",
   "metadata": {},
   "source": [
    "<h1>Perceptron Algorithm for weight and bias updation for either AND/OR  </h1>"
   ]
  },
  {
   "cell_type": "markdown",
   "metadata": {},
   "source": [
    "Submitted by-\n",
    "Richa Gupta\n",
    "RA1911003010357"
   ]
  },
  {
   "cell_type": "code",
   "execution_count": null,
   "metadata": {},
   "outputs": [],
   "source": [
    "import numpy as np\n",
    "np.random.seed(42)\n",
    "\n",
    "def stepFunction(t):\n",
    "    if t >= 0:\n",
    "        return 1\n",
    "    return 0\n",
    "\n",
    "def prediction(X, W, b):\n",
    "    return stepFunction((np.matmul(X,W)+b)[0])\n",
    "\n",
    "def perceptronStep(X, y, W, b, learn_rate = 0.01):\n",
    "    # For all the data points in the dataset\n",
    "    for i, x in enumerate(X):\n",
    "        y_cap = prediction(x, W, b)\n",
    "        \n",
    "        # If Red point misclassified into Positive region WX + b >= 0\n",
    "        if y_cap - y[i] == 1:\n",
    "            W[0] -= learn_rate * x[0]\n",
    "            W[1] -= learn_rate * x[1]\n",
    "            b -= learn_rate\n",
    "\n",
    "        # If Blue point misclassified into Negative region WX + b < 0\n",
    "        elif y_cap - y[i] == -1:\n",
    "            W[0] += learn_rate * x[0]\n",
    "            W[1] += learn_rate * x[1]\n",
    "            b += learn_rate\n",
    "    return W, b\n",
    "  \n",
    "# Randomly initialise W & b\n",
    "W = np.array(np.random.rand(2,1))\n",
    "b = np.random.rand(1)[0] + x_max\n",
    "\n",
    "# Run the perceptronStep for number of epochs\n",
    "for i in range(num_epochs):\n",
    "    W, b = perceptronStep(X, y, W, b, learn_rate)"
   ]
  }
 ],
 "metadata": {
  "kernelspec": {
   "display_name": "Python 3",
   "language": "python",
   "name": "python3"
  },
  "language_info": {
   "codemirror_mode": {
    "name": "ipython",
    "version": 3
   },
   "file_extension": ".py",
   "mimetype": "text/x-python",
   "name": "python",
   "nbconvert_exporter": "python",
   "pygments_lexer": "ipython3",
   "version": "3.8.5"
  }
 },
 "nbformat": 4,
 "nbformat_minor": 4
}
